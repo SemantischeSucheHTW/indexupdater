{
 "cells": [
  {
   "cell_type": "markdown",
   "metadata": {},
   "source": [
    "**helper functions and imports**"
   ]
  },
  {
   "cell_type": "code",
   "execution_count": 1,
   "metadata": {},
   "outputs": [],
   "source": [
    "# required imports\n",
    "import PageDetails as page\n",
    "from indexdao.ortsIndexdao import OrtsIndexDao\n",
    "from indexdao.zeitIndexdao import ZeitIndexDao"
   ]
  },
  {
   "cell_type": "code",
   "execution_count": 2,
   "metadata": {},
   "outputs": [],
   "source": [
    "def print_cursor_doc(cursor):\n",
    "    for doc in cursor:\n",
    "        print(doc)"
   ]
  },
  {
   "cell_type": "markdown",
   "metadata": {},
   "source": [
    "**quit mongo daemon**"
   ]
  },
  {
   "cell_type": "raw",
   "metadata": {},
   "source": [
    "mongo\n",
    "use admin\n",
    "db.shutdownServer()"
   ]
  },
  {
   "cell_type": "markdown",
   "metadata": {},
   "source": [
    "**start mongo daemon**"
   ]
  },
  {
   "cell_type": "raw",
   "metadata": {},
   "source": [
    "mongod"
   ]
  },
  {
   "cell_type": "markdown",
   "metadata": {},
   "source": [
    "**start mongo db, switch to db and add element**"
   ]
  },
  {
   "cell_type": "raw",
   "metadata": {},
   "source": [
    "mongo\n",
    "use semantische\n",
    "db.indexe.insert({ URL: \"examples/exp_normal_alt.html\", Title: \"Unbekannte behindern Berufsverkehr\", Text: \"In den frühen Morgenstunden kam es zu erheblichen Störungen im Berufsverkehr. Nach derzeitigen Erkenntnissen machten sich Täter in Gropiusstadt in einem U-Bahntunnel im Streckenabschnitt zwischen U-Bahnhof Lipschitzallee und U-Bahnhof Johannisthaler Chaussee an Stromleitungen zu schaffen. Auf einer Länge von ca. 250 Metern lösten sie sämtliche Kabelschellen und durchtrennten ein Kupferkabel. Als gegen 3.55 Uhr ein Zug in den Tunnel einfuhr, blieb ein Stromabnehmer des U-Bahnwagens an herunterhängenden Kabelenden hängen und „räufelte“ große Teile der von der Tunnelwand gelösten Kupferleitungen auf. Mit dem hierbei verursachten Kurzschluss wurde der Zugverkehr bis 7.50 Uhr auf der U-Bahnlinie U7 zwischen den Bahnhöfen Rudow und Britz-Süd unterbrochen.Ermittler der Polizei und Experten der Berliner Verkehrsbetriebe prüfen zurzeit den Umfang des Schadens. Die Ermittlungen zu den bisher unbekannten Tätern dauern an.\", Nr: 2336})"
   ]
  },
  {
   "cell_type": "markdown",
   "metadata": {},
   "source": [
    "**find element in mongo with url**"
   ]
  },
  {
   "cell_type": "raw",
   "metadata": {},
   "source": [
    "db.indexe.find({URL:\"examples/exp_normal_alt.html\"})"
   ]
  },
  {
   "cell_type": "code",
   "execution_count": 3,
   "metadata": {},
   "outputs": [],
   "source": [
    "# same url as inserted one\n",
    "testpage = page.PageDetails('examples/exp_normal_alt.html',\n",
    "                      'Unbekannte behindern Berufsverkehr',\n",
    "                      'Neukölln',\n",
    "                      '2014-10-06',\n",
    "                      2336,\n",
    "                      'In den frühen Morgenstunden kam es zu erheblichen Störungen im Berufsverkehr. Nach derzeitigen Erkenntnissen machten sich Täter in Gropiusstadt in einem U-Bahntunnel im Streckenabschnitt zwischen U-Bahnhof Lipschitzallee und U-Bahnhof Johannisthaler Chaussee an Stromleitungen zu schaffen. Auf einer Länge von ca. 250 Metern lösten sie sämtliche Kabelschellen und durchtrennten ein Kupferkabel. Als gegen 3.55 Uhr ein Zug in den Tunnel einfuhr, blieb ein Stromabnehmer des U-Bahnwagens an herunterhängenden Kabelenden hängen und „räufelte“ große Teile der von der Tunnelwand gelösten Kupferleitungen auf. Mit dem hierbei verursachten Kurzschluss wurde der Zugverkehr bis 7.50 Uhr auf der U-Bahnlinie U7 zwischen den Bahnhöfen Rudow und Britz-Süd unterbrochen.Ermittler der Polizei und Experten der Berliner Verkehrsbetriebe prüfen zurzeit den Umfang des Schadens. Die Ermittlungen zu den bisher unbekannten Tätern dauern an.')"
   ]
  },
  {
   "cell_type": "markdown",
   "metadata": {},
   "source": [
    "**Ortindex Test**"
   ]
  },
  {
   "cell_type": "code",
   "execution_count": 4,
   "metadata": {},
   "outputs": [
    {
     "name": "stdout",
     "output_type": "stream",
     "text": [
      "{'host': '127.0.0.1', 'port': 27017, 'db': 'semantische', 'ortsindex_collection': 'indexe'}\n"
     ]
    }
   ],
   "source": [
    "config = {}\n",
    "config['host'] = \"127.0.0.1\"\n",
    "config['port'] = 27017\n",
    "config['db'] = 'semantische'\n",
    "config['ortsindex_collection'] = 'indexe'\n",
    "print(config)"
   ]
  },
  {
   "cell_type": "code",
   "execution_count": 5,
   "metadata": {},
   "outputs": [
    {
     "name": "stdout",
     "output_type": "stream",
     "text": [
      "New entry to Neukölln written\n",
      "{'_id': ObjectId('5c3456150d9554dca053f886'), 'ort': 'Neukölln', 'urls': ['examples/exp_normal_alt.html']}\n"
     ]
    }
   ],
   "source": [
    "ortsdao = OrtsIndexDao(config)\n",
    "ortsdao.updateIndex(testpage)\n",
    "cursor = ortsdao.getUrlfromKey('Neukölln')\n",
    "print_cursor_doc(cursor)"
   ]
  },
  {
   "cell_type": "markdown",
   "metadata": {},
   "source": [
    "**Zeitindex Test**"
   ]
  },
  {
   "cell_type": "code",
   "execution_count": 6,
   "metadata": {},
   "outputs": [
    {
     "name": "stdout",
     "output_type": "stream",
     "text": [
      "{'host': '127.0.0.1', 'port': 27017, 'db': 'semantische', 'zeitindex_collection': 'indexe'}\n"
     ]
    }
   ],
   "source": [
    "config = {}\n",
    "config['host'] = \"127.0.0.1\"\n",
    "config['port'] = 27017\n",
    "config['db'] = 'semantische'\n",
    "config['zeitindex_collection'] = 'indexe'\n",
    "print(config)"
   ]
  },
  {
   "cell_type": "code",
   "execution_count": 7,
   "metadata": {},
   "outputs": [
    {
     "name": "stdout",
     "output_type": "stream",
     "text": [
      "New entry to Neukölln written\n",
      "{'_id': ObjectId('5c3456150d9554dca053f88b'), 'date': '2014-10-06', 'urls': ['examples/exp_normal_alt.html']}\n"
     ]
    }
   ],
   "source": [
    "zeitdao = ZeitIndexDao(config)\n",
    "zeitdao.updateIndex(testpage)\n",
    "cursor = zeitdao.getUrlfromKey('2014-10-06')\n",
    "print_cursor_doc(cursor)"
   ]
  }
 ],
 "metadata": {
  "kernelspec": {
   "display_name": "Python 3",
   "language": "python",
   "name": "python3"
  },
  "language_info": {
   "codemirror_mode": {
    "name": "ipython",
    "version": 3
   },
   "file_extension": ".py",
   "mimetype": "text/x-python",
   "name": "python",
   "nbconvert_exporter": "python",
   "pygments_lexer": "ipython3",
   "version": "3.6.5"
  },
  "toc": {
   "base_numbering": 1,
   "nav_menu": {},
   "number_sections": true,
   "sideBar": true,
   "skip_h1_title": false,
   "title_cell": "Table of Contents",
   "title_sidebar": "Contents",
   "toc_cell": false,
   "toc_position": {},
   "toc_section_display": true,
   "toc_window_display": false
  }
 },
 "nbformat": 4,
 "nbformat_minor": 2
}
