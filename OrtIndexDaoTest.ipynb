{
 "cells": [
  {
   "cell_type": "markdown",
   "metadata": {},
   "source": [
    "# Inverse Index Ort - Ort Index Test"
   ]
  },
  {
   "cell_type": "raw",
   "metadata": {},
   "source": [
    "shut down mongo daemon\n",
    "mongo\n",
    "use admin\n",
    "db.shutdownServer()"
   ]
  },
  {
   "cell_type": "markdown",
   "metadata": {},
   "source": [
    "## Requirements"
   ]
  },
  {
   "cell_type": "markdown",
   "metadata": {},
   "source": [
    "### Imports"
   ]
  },
  {
   "cell_type": "code",
   "execution_count": 1,
   "metadata": {},
   "outputs": [],
   "source": [
    "# required imports\n",
    "from PageDetails import PageDetails\n",
    "from indexdao.ortsIndexdao import OrtsIndexDao"
   ]
  },
  {
   "cell_type": "markdown",
   "metadata": {},
   "source": [
    "### Data"
   ]
  },
  {
   "cell_type": "code",
   "execution_count": 2,
   "metadata": {},
   "outputs": [
    {
     "name": "stdout",
     "output_type": "stream",
     "text": [
      "['Gesundbrunnen', 'Hansaviertel', 'Mitte', 'Moabit', 'Tiergarten', 'Wedding', 'Friedrichshain', 'Kreuzberg', 'Blankenburg', 'Blankenfelde', 'Buch', 'Französisch Buchholz', 'Heinersdorf', 'Karow', 'Malchow', 'Niederschönhausen', 'Rosenthal', 'Pankow', 'Prenzlauer Berg', 'Weißensee', 'Wilhemsruh', 'Charlottenburg', 'Grunewald', 'Halensee', 'Schmargendorf', 'Westend', 'Wilmersdorf'] 27\n"
     ]
    }
   ],
   "source": [
    "location_string = \"Gesundbrunnen, Hansaviertel, Mitte, Moabit, Tiergarten, Wedding, Friedrichshain, Kreuzberg, Blankenburg, Blankenfelde, Buch, Französisch Buchholz, Heinersdorf, Karow, Malchow, Niederschönhausen, Rosenthal, Pankow, Prenzlauer Berg, Weißensee, Wilhemsruh, Charlottenburg, Grunewald, Halensee, Schmargendorf, Westend, Wilmersdorf\"\n",
    "location_list = location_string.split(', ')\n",
    "print(location_list, len(location_list))"
   ]
  },
  {
   "cell_type": "code",
   "execution_count": 3,
   "metadata": {},
   "outputs": [
    {
     "data": {
      "text/plain": [
       "[<PageDetails.PageDetails at 0x10a244748>,\n",
       " <PageDetails.PageDetails at 0x10a244780>,\n",
       " <PageDetails.PageDetails at 0x10a2447b8>,\n",
       " <PageDetails.PageDetails at 0x10a2447f0>,\n",
       " <PageDetails.PageDetails at 0x10a244828>,\n",
       " <PageDetails.PageDetails at 0x10a244860>,\n",
       " <PageDetails.PageDetails at 0x10a244898>,\n",
       " <PageDetails.PageDetails at 0x10a2448d0>,\n",
       " <PageDetails.PageDetails at 0x10a244908>,\n",
       " <PageDetails.PageDetails at 0x10a244940>,\n",
       " <PageDetails.PageDetails at 0x10a244978>,\n",
       " <PageDetails.PageDetails at 0x10a2449b0>,\n",
       " <PageDetails.PageDetails at 0x10a2449e8>,\n",
       " <PageDetails.PageDetails at 0x10a244a20>,\n",
       " <PageDetails.PageDetails at 0x10a244a58>,\n",
       " <PageDetails.PageDetails at 0x10a244a90>,\n",
       " <PageDetails.PageDetails at 0x10a244ac8>,\n",
       " <PageDetails.PageDetails at 0x10a244b00>,\n",
       " <PageDetails.PageDetails at 0x10a244b38>,\n",
       " <PageDetails.PageDetails at 0x10a244b70>,\n",
       " <PageDetails.PageDetails at 0x10a244ba8>,\n",
       " <PageDetails.PageDetails at 0x10a244be0>,\n",
       " <PageDetails.PageDetails at 0x10a244c18>,\n",
       " <PageDetails.PageDetails at 0x10a244c50>,\n",
       " <PageDetails.PageDetails at 0x10a244c88>,\n",
       " <PageDetails.PageDetails at 0x10a244cc0>,\n",
       " <PageDetails.PageDetails at 0x10a244cf8>]"
      ]
     },
     "execution_count": 3,
     "metadata": {},
     "output_type": "execute_result"
    }
   ],
   "source": [
    "testpages = []\n",
    "for i in range(len(location_list)):\n",
    "    testpages.append(PageDetails('examples/' + location_list[i],\n",
    "                                 'Titel',\n",
    "                                 location_list[i],\n",
    "                                 '2014-10-10',\n",
    "                                 2336,\n",
    "                                 'Text'))\n",
    "testpages"
   ]
  },
  {
   "cell_type": "markdown",
   "metadata": {},
   "source": [
    "### Configuration of DAO"
   ]
  },
  {
   "cell_type": "code",
   "execution_count": 4,
   "metadata": {},
   "outputs": [
    {
     "name": "stdout",
     "output_type": "stream",
     "text": [
      "{'host': '127.0.0.1', 'port': 27017, 'db': 'semantische', 'ortsindex_collection': 'ortsindexe'}\n"
     ]
    }
   ],
   "source": [
    "config = {}\n",
    "config['host'] = \"127.0.0.1\"\n",
    "config['port'] = 27017\n",
    "config['db'] = 'semantische'\n",
    "config['ortsindex_collection'] = 'ortsindexe'\n",
    "print(config)"
   ]
  },
  {
   "cell_type": "markdown",
   "metadata": {},
   "source": [
    "## Using the ZeitIndexDao"
   ]
  },
  {
   "cell_type": "markdown",
   "metadata": {},
   "source": [
    "### Loading config"
   ]
  },
  {
   "cell_type": "code",
   "execution_count": 5,
   "metadata": {},
   "outputs": [],
   "source": [
    "ortdao = OrtsIndexDao(config)"
   ]
  },
  {
   "cell_type": "markdown",
   "metadata": {},
   "source": [
    "### Creating Inverse Index"
   ]
  },
  {
   "cell_type": "code",
   "execution_count": 6,
   "metadata": {},
   "outputs": [
    {
     "name": "stdout",
     "output_type": "stream",
     "text": [
      "New entry to Gesundbrunnen written\n",
      "New entry to Hansaviertel written\n",
      "New entry to Mitte written\n",
      "New entry to Moabit written\n",
      "New entry to Tiergarten written\n",
      "New entry to Wedding written\n",
      "New entry to Friedrichshain written\n",
      "New entry to Kreuzberg written\n",
      "New entry to Blankenburg written\n",
      "New entry to Blankenfelde written\n",
      "New entry to Buch written\n",
      "New entry to Französisch Buchholz written\n",
      "New entry to Heinersdorf written\n",
      "New entry to Karow written\n",
      "New entry to Malchow written\n",
      "New entry to Niederschönhausen written\n",
      "New entry to Rosenthal written\n",
      "New entry to Pankow written\n",
      "New entry to Prenzlauer Berg written\n",
      "New entry to Weißensee written\n",
      "New entry to Wilhemsruh written\n",
      "New entry to Charlottenburg written\n",
      "New entry to Grunewald written\n",
      "New entry to Halensee written\n",
      "New entry to Schmargendorf written\n",
      "New entry to Westend written\n",
      "New entry to Wilmersdorf written\n"
     ]
    }
   ],
   "source": [
    "for testpage in testpages:\n",
    "    ortdao.updateIndex(testpage)"
   ]
  },
  {
   "cell_type": "markdown",
   "metadata": {},
   "source": [
    "### Search based on key"
   ]
  },
  {
   "cell_type": "code",
   "execution_count": 7,
   "metadata": {},
   "outputs": [],
   "source": [
    "def print_cursor_doc(cursor):\n",
    "    for doc in cursor:\n",
    "        print(doc)"
   ]
  },
  {
   "cell_type": "markdown",
   "metadata": {},
   "source": [
    "**One location**"
   ]
  },
  {
   "cell_type": "code",
   "execution_count": 8,
   "metadata": {},
   "outputs": [
    {
     "name": "stdout",
     "output_type": "stream",
     "text": [
      "['examples/Pankow', 'examples/Pankow', 'examples/Pankow']\n"
     ]
    }
   ],
   "source": [
    "cursor, weight = ortdao.getUrlfromKey('Pankow')\n",
    "print_cursor_doc(cursor)"
   ]
  },
  {
   "cell_type": "code",
   "execution_count": 9,
   "metadata": {},
   "outputs": [
    {
     "name": "stdout",
     "output_type": "stream",
     "text": [
      "['examples/Pankow', 'examples/Pankow', 'examples/Pankow']\n"
     ]
    }
   ],
   "source": [
    "for doc in cursor:\n",
    "    print(doc)"
   ]
  },
  {
   "cell_type": "markdown",
   "metadata": {},
   "source": [
    "**Range**"
   ]
  },
  {
   "cell_type": "code",
   "execution_count": 10,
   "metadata": {},
   "outputs": [],
   "source": [
    "#cursor, weight = ortdao.getUrlfromKey('Westend',3)\n",
    "#print_cursor_doc(cursor)"
   ]
  }
 ],
 "metadata": {
  "kernelspec": {
   "display_name": "Python 3",
   "language": "python",
   "name": "python3"
  },
  "language_info": {
   "codemirror_mode": {
    "name": "ipython",
    "version": 3
   },
   "file_extension": ".py",
   "mimetype": "text/x-python",
   "name": "python",
   "nbconvert_exporter": "python",
   "pygments_lexer": "ipython3",
   "version": "3.6.5"
  },
  "toc": {
   "base_numbering": 1,
   "nav_menu": {},
   "number_sections": true,
   "sideBar": true,
   "skip_h1_title": true,
   "title_cell": "Table of Contents",
   "title_sidebar": "Contents",
   "toc_cell": false,
   "toc_position": {},
   "toc_section_display": true,
   "toc_window_display": false
  }
 },
 "nbformat": 4,
 "nbformat_minor": 2
}
