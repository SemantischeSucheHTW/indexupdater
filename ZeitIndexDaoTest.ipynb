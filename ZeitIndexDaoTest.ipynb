{
 "cells": [
  {
   "cell_type": "markdown",
   "metadata": {},
   "source": [
    "# Inverse Index Zeit - Zeit Index Test"
   ]
  },
  {
   "cell_type": "raw",
   "metadata": {},
   "source": [
    "shut down mongo daemon\n",
    "mongo\n",
    "use admin\n",
    "db.shutdownServer()"
   ]
  },
  {
   "cell_type": "markdown",
   "metadata": {},
   "source": [
    "## Requirements"
   ]
  },
  {
   "cell_type": "markdown",
   "metadata": {},
   "source": [
    "### Imports"
   ]
  },
  {
   "cell_type": "code",
   "execution_count": 1,
   "metadata": {},
   "outputs": [],
   "source": [
    "# required imports\n",
    "from PageDetails import PageDetails\n",
    "from indexdao.zeitIndexdao import ZeitIndexDao"
   ]
  },
  {
   "cell_type": "markdown",
   "metadata": {},
   "source": [
    "### Data"
   ]
  },
  {
   "cell_type": "code",
   "execution_count": 2,
   "metadata": {},
   "outputs": [
    {
     "data": {
      "text/plain": [
       "[<PageDetails.PageDetails at 0x112701ac8>,\n",
       " <PageDetails.PageDetails at 0x112701a90>,\n",
       " <PageDetails.PageDetails at 0x112701b00>,\n",
       " <PageDetails.PageDetails at 0x112701b38>,\n",
       " <PageDetails.PageDetails at 0x112701b70>,\n",
       " <PageDetails.PageDetails at 0x112701ba8>,\n",
       " <PageDetails.PageDetails at 0x112701be0>,\n",
       " <PageDetails.PageDetails at 0x112701c18>,\n",
       " <PageDetails.PageDetails at 0x112701c50>,\n",
       " <PageDetails.PageDetails at 0x112701c88>,\n",
       " <PageDetails.PageDetails at 0x112701cc0>,\n",
       " <PageDetails.PageDetails at 0x112701cf8>,\n",
       " <PageDetails.PageDetails at 0x112701d30>,\n",
       " <PageDetails.PageDetails at 0x112701d68>,\n",
       " <PageDetails.PageDetails at 0x112701da0>,\n",
       " <PageDetails.PageDetails at 0x112701dd8>,\n",
       " <PageDetails.PageDetails at 0x112701e10>,\n",
       " <PageDetails.PageDetails at 0x112701e48>,\n",
       " <PageDetails.PageDetails at 0x112701e80>,\n",
       " <PageDetails.PageDetails at 0x112701eb8>]"
      ]
     },
     "execution_count": 2,
     "metadata": {},
     "output_type": "execute_result"
    }
   ],
   "source": [
    "testpages = []\n",
    "for i in range(10, 30):\n",
    "    date = str(i)\n",
    "    testpages.append(PageDetails('examples/' + date,\n",
    "                                 'Titel',\n",
    "                                 'Ort',\n",
    "                                 '2014-10-' + date,\n",
    "                                 2336,\n",
    "                                 'Text'))\n",
    "testpages"
   ]
  },
  {
   "cell_type": "markdown",
   "metadata": {},
   "source": [
    "### Configuration of DAO"
   ]
  },
  {
   "cell_type": "code",
   "execution_count": 3,
   "metadata": {},
   "outputs": [
    {
     "name": "stdout",
     "output_type": "stream",
     "text": [
      "{'host': '127.0.0.1', 'port': 27018, 'db': 'presentation', 'zeitindex_collection': 'zeitindexe'}\n"
     ]
    }
   ],
   "source": [
    "\"\"\"config = {}\n",
    "config['host'] = \"127.0.0.1\"\n",
    "config['port'] = 27017 # mongodb default port\n",
    "config['db'] = 'presentation' # which database \n",
    "config['zeitindex_collection'] = 'zeitindexe' # which collection\n",
    "print(config)\"\"\"\n",
    "\n",
    "config = {}\n",
    "config['host'] = \"127.0.0.1\"\n",
    "config['port'] = 27018 # mongodb default port\n",
    "config['db'] = 'presentation' # which database \n",
    "config['zeitindex_collection'] = 'zeitindexe' # which collection\n",
    "print(config)"
   ]
  },
  {
   "cell_type": "markdown",
   "metadata": {},
   "source": [
    "## Using the ZeitIndexDao"
   ]
  },
  {
   "cell_type": "markdown",
   "metadata": {},
   "source": [
    "### Loading config"
   ]
  },
  {
   "cell_type": "code",
   "execution_count": 4,
   "metadata": {},
   "outputs": [],
   "source": [
    "zeitdao = ZeitIndexDao(config)"
   ]
  },
  {
   "cell_type": "markdown",
   "metadata": {},
   "source": [
    "### Creating Inverse Index"
   ]
  },
  {
   "cell_type": "code",
   "execution_count": 5,
   "metadata": {},
   "outputs": [
    {
     "name": "stdout",
     "output_type": "stream",
     "text": [
      "New entry to Ort written\n",
      "New entry to Ort written\n",
      "New entry to Ort written\n",
      "New entry to Ort written\n",
      "New entry to Ort written\n",
      "New entry to Ort written\n",
      "New entry to Ort written\n",
      "New entry to Ort written\n",
      "New entry to Ort written\n",
      "New entry to Ort written\n",
      "New entry to Ort written\n",
      "New entry to Ort written\n",
      "New entry to Ort written\n",
      "New entry to Ort written\n",
      "New entry to Ort written\n",
      "New entry to Ort written\n",
      "New entry to Ort written\n",
      "New entry to Ort written\n",
      "New entry to Ort written\n",
      "New entry to Ort written\n"
     ]
    }
   ],
   "source": [
    "for testpage in testpages:\n",
    "    zeitdao.updateIndex(testpage)"
   ]
  },
  {
   "cell_type": "markdown",
   "metadata": {},
   "source": [
    "### Search based on key"
   ]
  },
  {
   "cell_type": "code",
   "execution_count": 6,
   "metadata": {},
   "outputs": [],
   "source": [
    "def print_cursor_doc(cursor):\n",
    "    for doc in cursor:\n",
    "        print(doc)"
   ]
  },
  {
   "cell_type": "markdown",
   "metadata": {},
   "source": [
    "**One date**"
   ]
  },
  {
   "cell_type": "code",
   "execution_count": 7,
   "metadata": {},
   "outputs": [
    {
     "name": "stdout",
     "output_type": "stream",
     "text": [
      "examples/25\n"
     ]
    }
   ],
   "source": [
    "cursor, weight = zeitdao.getUrlfromKey('2014-10-25')\n",
    "print_cursor_doc(cursor)"
   ]
  },
  {
   "cell_type": "markdown",
   "metadata": {},
   "source": [
    "**Range**"
   ]
  },
  {
   "cell_type": "code",
   "execution_count": 8,
   "metadata": {},
   "outputs": [
    {
     "name": "stdout",
     "output_type": "stream",
     "text": [
      "examples/21\n",
      "examples/22\n",
      "examples/23\n",
      "examples/24\n"
     ]
    }
   ],
   "source": [
    "cursor, weight = zeitdao.getUrlfromKey('2014-10-21','2014-10-25')\n",
    "print_cursor_doc(cursor)"
   ]
  },
  {
   "cell_type": "code",
   "execution_count": null,
   "metadata": {},
   "outputs": [],
   "source": []
  }
 ],
 "metadata": {
  "kernelspec": {
   "display_name": "Python 3",
   "language": "python",
   "name": "python3"
  },
  "language_info": {
   "codemirror_mode": {
    "name": "ipython",
    "version": 3
   },
   "file_extension": ".py",
   "mimetype": "text/x-python",
   "name": "python",
   "nbconvert_exporter": "python",
   "pygments_lexer": "ipython3",
   "version": "3.6.4"
  },
  "toc": {
   "base_numbering": 1,
   "nav_menu": {},
   "number_sections": true,
   "sideBar": true,
   "skip_h1_title": true,
   "title_cell": "Table of Contents",
   "title_sidebar": "Contents",
   "toc_cell": false,
   "toc_position": {},
   "toc_section_display": true,
   "toc_window_display": true
  }
 },
 "nbformat": 4,
 "nbformat_minor": 2
}
